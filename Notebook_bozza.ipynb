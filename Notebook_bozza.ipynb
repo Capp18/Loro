{
 "cells": [
  {
   "cell_type": "markdown",
   "metadata": {},
   "source": [
    "# NBD Challenge 1"
   ]
  },
  {
   "cell_type": "code",
   "execution_count": 1,
   "metadata": {},
   "outputs": [],
   "source": [
    "import networkx as nx\n",
    "import random\n",
    "import time\n",
    "import numpy as np\n",
    "import matplotlib.pyplot as plt\n",
    "from matplotlib.pyplot import figure"
   ]
  },
  {
   "cell_type": "markdown",
   "metadata": {},
   "source": [
    "### Temporary graphs to test function"
   ]
  },
  {
   "cell_type": "code",
   "execution_count": 2,
   "metadata": {},
   "outputs": [
    {
     "name": "stdout",
     "output_type": "stream",
     "text": [
      "True\n",
      "True\n",
      "False\n",
      "True\n"
     ]
    }
   ],
   "source": [
    "g = nx.erdos_renyi_graph(100, 0.3, seed=123, directed=False)\n",
    "\n",
    "h = nx.random_regular_graph(2, 100, seed=12314214123)\n",
    "\n",
    "p = nx.random_regular_graph(2, 100, seed=12)\n",
    "\n",
    "d = nx.random_regular_graph(8, 100,seed=123)\n",
    "\n",
    "\n",
    "print(nx.is_connected(g))\n",
    "print(nx.is_connected(h))\n",
    "print(nx.is_connected(p))\n",
    "print(nx.is_connected(d))"
   ]
  },
  {
   "cell_type": "code",
   "execution_count": 3,
   "metadata": {},
   "outputs": [],
   "source": [
    "# method one -> irreducibility \n",
    "\n",
    "def irreduc(g):\n",
    "    \n",
    "    n = g.number_of_nodes()\n",
    "    A = nx.to_numpy_matrix(g,dtype=float)\n",
    "\n",
    "    S=A+np.identity(n,int)\n",
    "\n",
    "    for i in range(2,n):\n",
    "        S+=np.linalg.matrix_power(A,i)\n",
    "\n",
    "    if np.count_nonzero(S)==n*n:\n",
    "        return True\n",
    "        #print('The graph is connected')\n",
    "    else: return False #print(\"The graph is not connected\")\n"
   ]
  },
  {
   "cell_type": "code",
   "execution_count": 4,
   "metadata": {},
   "outputs": [
    {
     "name": "stdout",
     "output_type": "stream",
     "text": [
      "True\n",
      "True\n",
      "False\n",
      "True\n"
     ]
    }
   ],
   "source": [
    "print(irreduc(g))\n",
    "print(irreduc(h))\n",
    "print(irreduc(p))\n",
    "print(irreduc(d))"
   ]
  },
  {
   "cell_type": "code",
   "execution_count": 5,
   "metadata": {},
   "outputs": [],
   "source": [
    "# method 2 -> BFS \n",
    "def bfs(G):\n",
    "    root = 0\n",
    "    seen=set()\n",
    "    queue=[root]\n",
    "    while len(queue)!=0:\n",
    "        seen.add(queue[0])\n",
    "        for i in G[queue[0]]:\n",
    "            if i not in seen and i not in queue:\n",
    "                queue.append(i)\n",
    "        queue.remove(queue[0])\n",
    "    if len(seen)<len(G):\n",
    "        return False\n",
    "        #print(\"The graph is not connected\")\n",
    "    else:\n",
    "        return True\n",
    "       # print(\"The graph is connected\")"
   ]
  },
  {
   "cell_type": "code",
   "execution_count": 6,
   "metadata": {},
   "outputs": [
    {
     "name": "stdout",
     "output_type": "stream",
     "text": [
      "True\n",
      "True\n",
      "False\n",
      "True\n"
     ]
    }
   ],
   "source": [
    "print(bfs(g))\n",
    "print(bfs(h))\n",
    "print(bfs(p)) \n",
    "print(bfs(d))"
   ]
  },
  {
   "cell_type": "code",
   "execution_count": 7,
   "metadata": {},
   "outputs": [],
   "source": [
    "# method 3 -> Laplacian matrix\n",
    "def laplacian_connected(G):\n",
    "    nodelist = [i for i in range(len(G))]        #lista dei nodi da verificare\n",
    "    Laplacian = nx.laplacian_matrix(G,nodelist) #matrice laplaciana\n",
    "    lpc = Laplacian.todense()                    #formato umano\n",
    "    #print(lpc)\n",
    "    \n",
    "    #calcoliamo gli autovalori:\n",
    "    eig = list(np.linalg.eigvals(lpc))\n",
    "    eig_ord = sorted(eig)\n",
    "    \n",
    "    if eig_ord[1]>0:\n",
    "        #print(\"The graph is connected\")\n",
    "        return True\n",
    "    else:\n",
    "        #print(\"The graph is not connected\")\n",
    "        return False"
   ]
  },
  {
   "cell_type": "code",
   "execution_count": 8,
   "metadata": {},
   "outputs": [
    {
     "name": "stdout",
     "output_type": "stream",
     "text": [
      "True\n",
      "True\n",
      "False\n",
      "True\n"
     ]
    }
   ],
   "source": [
    "print(laplacian_connected(g))\n",
    "print(laplacian_connected(h))\n",
    "print(laplacian_connected(p))\n",
    "print(laplacian_connected(d))"
   ]
  },
  {
   "cell_type": "markdown",
   "metadata": {},
   "source": [
    "## Time complexity analysis"
   ]
  },
  {
   "cell_type": "code",
   "execution_count": 9,
   "metadata": {},
   "outputs": [
    {
     "data": {
      "text/plain": [
       "25"
      ]
     },
     "execution_count": 9,
     "metadata": {},
     "output_type": "execute_result"
    }
   ],
   "source": [
    "## Let's create a bunch of graphs to test our analysis on\n",
    "\n",
    "graphs_er = []\n",
    "p = 0.5\n",
    "for k in range (50, 300, 10):\n",
    "    g = nx.erdos_renyi_graph(k, p, seed=123, directed=False)\n",
    "    graphs_er.append(g)\n",
    "    \n",
    "len(graphs_er)\n",
    "nodes = [i for i in range(50,300, 10)]\n",
    "len(nodes)"
   ]
  },
  {
   "cell_type": "code",
   "execution_count": 10,
   "metadata": {},
   "outputs": [
    {
     "name": "stderr",
     "output_type": "stream",
     "text": [
      "/Users/caterina/opt/anaconda3/lib/python3.7/site-packages/numpy/linalg/linalg.py:670: RuntimeWarning: overflow encountered in matmul\n",
      "  result = z if result is None else fmatmul(result, z)\n",
      "/Users/caterina/opt/anaconda3/lib/python3.7/site-packages/ipykernel_launcher.py:11: RuntimeWarning: overflow encountered in add\n",
      "  # This is added back by InteractiveShellApp.init_path()\n",
      "/Users/caterina/opt/anaconda3/lib/python3.7/site-packages/numpy/linalg/linalg.py:667: RuntimeWarning: overflow encountered in matmul\n",
      "  z = a if z is None else fmatmul(z, z)\n",
      "/Users/caterina/opt/anaconda3/lib/python3.7/site-packages/numpy/linalg/linalg.py:670: RuntimeWarning: invalid value encountered in matmul\n",
      "  result = z if result is None else fmatmul(result, z)\n"
     ]
    },
    {
     "data": {
      "text/plain": [
       "25"
      ]
     },
     "execution_count": 10,
     "metadata": {},
     "output_type": "execute_result"
    }
   ],
   "source": [
    "# let's start our simulation for the er random graphs\n",
    "\n",
    "irr_time = []\n",
    "\n",
    "for g in graphs_er:\n",
    "    \n",
    "    start = time.time()\n",
    "    irreduc(g)\n",
    "    irr_time.append(time.time() - start)\n",
    "    \n",
    "len(irr_time)\n",
    "    \n"
   ]
  },
  {
   "cell_type": "code",
   "execution_count": 13,
   "metadata": {},
   "outputs": [
    {
     "data": {
      "text/plain": [
       "[0.019893169403076172,\n",
       " 0.017290830612182617,\n",
       " 0.020008325576782227,\n",
       " 0.01852893829345703,\n",
       " 0.02634119987487793,\n",
       " 0.03473615646362305,\n",
       " 0.05085897445678711,\n",
       " 0.06035923957824707,\n",
       " 0.09406161308288574,\n",
       " 0.1157989501953125,\n",
       " 0.20524811744689941,\n",
       " 0.2070310115814209,\n",
       " 0.2944300174713135,\n",
       " 0.31888389587402344,\n",
       " 0.3893742561340332]"
      ]
     },
     "execution_count": 13,
     "metadata": {},
     "output_type": "execute_result"
    }
   ],
   "source": [
    "irr_time[:15]"
   ]
  },
  {
   "cell_type": "code",
   "execution_count": 14,
   "metadata": {},
   "outputs": [
    {
     "data": {
      "text/plain": [
       "25"
      ]
     },
     "execution_count": 14,
     "metadata": {},
     "output_type": "execute_result"
    }
   ],
   "source": [
    "bfs_time = []\n",
    "\n",
    "for g in graphs_er:\n",
    "    \n",
    "    start = time.time()\n",
    "    bfs(g)\n",
    "    bfs_time.append(time.time() - start)\n",
    "    \n",
    "len(bfs_time)"
   ]
  },
  {
   "cell_type": "code",
   "execution_count": 15,
   "metadata": {},
   "outputs": [
    {
     "data": {
      "text/plain": [
       "[0.0003325939178466797,\n",
       " 0.00047707557678222656,\n",
       " 0.0006830692291259766,\n",
       " 0.0009510517120361328,\n",
       " 0.0018239021301269531,\n",
       " 0.0033140182495117188,\n",
       " 0.003008127212524414,\n",
       " 0.003137826919555664,\n",
       " 0.003348112106323242,\n",
       " 0.005163908004760742,\n",
       " 0.0058858394622802734,\n",
       " 0.005642890930175781,\n",
       " 0.007047176361083984,\n",
       " 0.009151935577392578,\n",
       " 0.010863065719604492]"
      ]
     },
     "execution_count": 15,
     "metadata": {},
     "output_type": "execute_result"
    }
   ],
   "source": [
    "bfs_time[:15]"
   ]
  },
  {
   "cell_type": "code",
   "execution_count": 16,
   "metadata": {},
   "outputs": [
    {
     "data": {
      "text/plain": [
       "25"
      ]
     },
     "execution_count": 16,
     "metadata": {},
     "output_type": "execute_result"
    }
   ],
   "source": [
    "lap_time = []\n",
    "\n",
    "for g in graphs_er:\n",
    "    \n",
    "    start = time.time()\n",
    "    laplacian_connected(g)\n",
    "    lap_time.append(time.time() - start)\n",
    "    \n",
    "len(lap_time)"
   ]
  },
  {
   "cell_type": "code",
   "execution_count": 17,
   "metadata": {},
   "outputs": [
    {
     "data": {
      "text/plain": [
       "[0.0061740875244140625,\n",
       " 0.007745027542114258,\n",
       " 0.00853109359741211,\n",
       " 0.011464118957519531,\n",
       " 0.010704755783081055,\n",
       " 0.013319969177246094,\n",
       " 0.01034092903137207,\n",
       " 0.01162409782409668,\n",
       " 0.014929056167602539,\n",
       " 0.01929330825805664,\n",
       " 0.05904197692871094,\n",
       " 0.021085023880004883,\n",
       " 0.025072097778320312,\n",
       " 0.027024269104003906,\n",
       " 0.028906583786010742]"
      ]
     },
     "execution_count": 17,
     "metadata": {},
     "output_type": "execute_result"
    }
   ],
   "source": [
    "lap_time[:15]"
   ]
  },
  {
   "cell_type": "code",
   "execution_count": 18,
   "metadata": {},
   "outputs": [
    {
     "data": {
      "text/plain": [
       "<matplotlib.legend.Legend at 0x109a8a850>"
      ]
     },
     "execution_count": 18,
     "metadata": {},
     "output_type": "execute_result"
    },
    {
     "data": {
      "image/png": "[encoded data removed]",
      "text/plain": [
       "<Figure size 960x480 with 1 Axes>"
      ]
     },
     "metadata": {},
     "output_type": "display_data"
    }
   ],
   "source": [
    "#fig = plt.figure()\n",
    "fig = figure(num=None, figsize=(12, 6), dpi=80, facecolor='w', edgecolor='k')\n",
    "\n",
    "plt.ylabel(\"Execution Time (seconds)\", fontsize=16)\n",
    "plt.xlabel('Number of nodes', fontsize=16)\n",
    "\n",
    "fig.suptitle('Time complexity as function of K with ER random graphs', fontsize=20)\n",
    "\n",
    "\n",
    "plt.plot(nodes,irr_time, 'r', label = \"Irreducibility\")\n",
    "plt.plot(nodes,bfs_time, 'g', label = \"Bfs\")\n",
    "plt.plot(nodes,lap_time, 'b', label = \"Laplacian Matrix\") \n",
    "\n",
    "plt.legend(loc='upper left')\n",
    "#fig.savefig('test.jpg')\n"
   ]
  },
  {
   "cell_type": "markdown",
   "metadata": {},
   "source": [
    "## Probability of connectivty of the graph in the two methods"
   ]
  },
  {
   "cell_type": "code",
   "execution_count": 152,
   "metadata": {},
   "outputs": [
    {
     "name": "stdout",
     "output_type": "stream",
     "text": [
      "9\n",
      "400\n",
      "[117, 190, 493, 193, 65, 99, 361, 23, 44, 71, 127, 416, 260, 108, 206, 329, 16, 236, 250, 233]\n"
     ]
    }
   ],
   "source": [
    "#We create a bunch of er random graphs with a 100 nodes\n",
    "\n",
    "prob = [0.1, 0.2, 0.3, 0.4, 0.5, 0.6, 0.7, 0.8, 0.9]\n",
    "\n",
    "#unique seeds we will use to create always the same graphs:\n",
    "\n",
    "random.seed(8)\n",
    "#random.seed(12121212)\n",
    "#random.seed(346666666)\n",
    "seeds = random.sample(range(1,500), 400)  #the seeds of the 400 graphs to create every time\n",
    "print(len(prob))\n",
    "print(len(seeds))\n",
    "print(seeds[:20])"
   ]
  },
  {
   "cell_type": "code",
   "execution_count": 153,
   "metadata": {},
   "outputs": [
    {
     "name": "stdout",
     "output_type": "stream",
     "text": [
      "9\n",
      "400\n"
     ]
    }
   ],
   "source": [
    "#Now we create a bunch of er-graph. We check the connectivity of 400 graphs for every \n",
    "# possible probability (9 values) to run our statistics of connectivity on every probability \n",
    "\n",
    "\n",
    "graphs_er = []\n",
    "for p in prob:\n",
    "    p_gr = []\n",
    "    for i in seeds:\n",
    "        #print(p,i)\n",
    "        g = nx.erdos_renyi_graph(100, p, seed=i, directed=False)\n",
    "        p_gr.append(bfs(g))\n",
    "        #print(bfs(g))\n",
    "    #print(p_gr)\n",
    "    graphs_er.append(p_gr)\n",
    "    \n",
    "print(len(graphs_er)) #number of probability evalued\n",
    "print(len(graphs_er[0])) #number of tests/graphs for every possible probability \n",
    "#print(graphs_er)\n",
    "\n"
   ]
  },
  {
   "cell_type": "code",
   "execution_count": 141,
   "metadata": {},
   "outputs": [
    {
     "data": {
      "text/plain": [
       "1"
      ]
     },
     "execution_count": 141,
     "metadata": {},
     "output_type": "execute_result"
    }
   ],
   "source": [
    "c=0\n",
    "for l in graphs_er:\n",
    "    if False in l:\n",
    "        c+=1\n",
    "\n",
    "c #number of disconnected graphs found in the whole simulation"
   ]
  },
  {
   "cell_type": "code",
   "execution_count": 192,
   "metadata": {
    "scrolled": true
   },
   "outputs": [
    {
     "name": "stdout",
     "output_type": "stream",
     "text": [
      "19\n",
      "400\n"
     ]
    }
   ],
   "source": [
    "#We do the same for 2-regualr random graphs\n",
    "\n",
    "graphs_r2 = []\n",
    "for i in range(10,101, 5):\n",
    "    k = []\n",
    "    for j in seeds:\n",
    "        g = nx.random_regular_graph(2, i, seed=j)\n",
    "        k.append(bfs(g))\n",
    "        #print(bfs(g))\n",
    "    graphs_r2.append(k)\n",
    "    \n",
    "print(len(graphs_r2))\n",
    "print(len(graphs_r2[0]))"
   ]
  },
  {
   "cell_type": "code",
   "execution_count": 193,
   "metadata": {},
   "outputs": [
    {
     "data": {
      "text/plain": [
       "19"
      ]
     },
     "execution_count": 193,
     "metadata": {},
     "output_type": "execute_result"
    }
   ],
   "source": [
    "#count how many disconnected graphs there are in the whole simulation with 2-regualr graphs\n",
    "d=0\n",
    "for l in graphs_r2:\n",
    "    if False in l:\n",
    "        d+=1\n",
    "\n",
    "d"
   ]
  },
  {
   "cell_type": "code",
   "execution_count": 194,
   "metadata": {},
   "outputs": [
    {
     "name": "stdout",
     "output_type": "stream",
     "text": [
      "19\n",
      "400\n"
     ]
    }
   ],
   "source": [
    "#And for 8-regular graphs\n",
    "\n",
    "graphs_r8 = []\n",
    "for i in range(10,101,5):\n",
    "    k = []\n",
    "    for j in seeds:\n",
    "        g = nx.random_regular_graph(8, i, seed=j)\n",
    "        k.append(bfs(g))\n",
    "        #print(bfs(g))\n",
    "    graphs_r8.append(k)\n",
    "    \n",
    "print(len(graphs_r8))\n",
    "print(len(graphs_r8[0]))"
   ]
  },
  {
   "cell_type": "code",
   "execution_count": 195,
   "metadata": {},
   "outputs": [
    {
     "data": {
      "text/plain": [
       "0"
      ]
     },
     "execution_count": 195,
     "metadata": {},
     "output_type": "execute_result"
    }
   ],
   "source": [
    "#count how many disconnected graphs there are in the whole simulation with 8-regualr graphs\n",
    "\n",
    "e=0\n",
    "for l in graphs_r8:\n",
    "    if False in l:\n",
    "        e+=1\n",
    "\n",
    "e"
   ]
  },
  {
   "cell_type": "code",
   "execution_count": 209,
   "metadata": {},
   "outputs": [
    {
     "name": "stdout",
     "output_type": "stream",
     "text": [
      "[0.0025, 0.0, 0.0, 0.0, 0.0, 0.0, 0.0, 0.0, 0.0]\n",
      "9\n",
      "19\n",
      "[0.5075, 0.5875, 0.6675, 0.6625, 0.715, 0.7375, 0.73, 0.795, 0.7925, 0.7925, 0.805, 0.8325, 0.8025, 0.835, 0.82, 0.835, 0.83, 0.8375, 0.8425]\n",
      "19\n",
      "[0.0, 0.0, 0.0, 0.0, 0.0, 0.0, 0.0, 0.0, 0.0, 0.0, 0.0, 0.0, 0.0, 0.0, 0.0, 0.0, 0.0, 0.0, 0.0]\n",
      "[10, 15, 20, 25, 30, 35, 40, 45, 50, 55, 60, 65, 70, 75, 80, 85, 90, 95, 100]\n"
     ]
    }
   ],
   "source": [
    "# To compute the probability of being disconnected  I check how many disconeccted graphs over a total of 400\n",
    "# there are in every test. \n",
    "\n",
    "def g_stat(graphs):\n",
    "    fin = []\n",
    "    for l in graphs:\n",
    "        disc_count = l.count(False)\n",
    "        p = disc_count/len(lis)\n",
    "        #print(disc_count, p, len(lis))\n",
    "        fin.append(p)\n",
    "    return fin\n",
    "\n",
    "er_toplot = g_stat(graphs_er)\n",
    "print(er_toplot)\n",
    "print(len(er_toplot))\n",
    "\n",
    "e2_toplot = g_stat(graphs_r2)\n",
    "print(len(e2_toplot))\n",
    "print(e2_toplot)\n",
    "\n",
    "e8_toplot = g_stat(graphs_r8)\n",
    "print(len(e8_toplot))\n",
    "print(e8_toplot)\n",
    "\n",
    "#to plot on the x axe of the last plot\n",
    "rregular_x = [i for i in range(10,101,5)]\n",
    "print(rregular_x)"
   ]
  },
  {
   "cell_type": "code",
   "execution_count": 210,
   "metadata": {},
   "outputs": [
    {
     "data": {
      "text/plain": [
       "[<matplotlib.lines.Line2D at 0xa2b0c96d0>]"
      ]
     },
     "execution_count": 210,
     "metadata": {},
     "output_type": "execute_result"
    },
    {
     "data": {
      "image/png": "[encoded data removed]",
      "text/plain": [
       "<Figure size 960x480 with 1 Axes>"
      ]
     },
     "metadata": {},
     "output_type": "display_data"
    }
   ],
   "source": [
    "f = figure(num=None, figsize=(12, 6), dpi=80, facecolor='w', edgecolor='k')\n",
    "\n",
    "plt.ylabel(\"Probability that is not connected\", fontsize=16)\n",
    "plt.xlabel('Value of P', fontsize=16)\n",
    "\n",
    "f.suptitle('Probability of a connected ER random graph as a function of p for K = 100 nodes', fontsize=20)\n",
    "\n",
    "\n",
    "plt.plot(prob,er_toplot, 'b', label = \"\")\n",
    "\n",
    "\n",
    "#fig.savefig('test.jpg')"
   ]
  },
  {
   "cell_type": "code",
   "execution_count": 208,
   "metadata": {},
   "outputs": [
    {
     "data": {
      "text/plain": [
       "<matplotlib.legend.Legend at 0xa2b0a3890>"
      ]
     },
     "execution_count": 208,
     "metadata": {},
     "output_type": "execute_result"
    },
    {
     "data": {
      "image/png": "[encoded data removed]",
      "text/plain": [
       "<Figure size 960x480 with 1 Axes>"
      ]
     },
     "metadata": {},
     "output_type": "display_data"
    }
   ],
   "source": [
    "ff = figure(num=None, figsize=(12, 6), dpi=80, facecolor='w', edgecolor='k')\n",
    "\n",
    "plt.ylabel(\"Probability that is not connected\", fontsize=16)\n",
    "plt.xlabel('Number of nodes', fontsize=16)\n",
    "\n",
    "ff.suptitle('Probability of a connected r-regular random graph as a function of the number of nodes K for r = 2 and 8', fontsize=20)\n",
    "\n",
    "\n",
    "plt.plot(rregular_x,e2_toplot, 'g', label = \"2-regular\")\n",
    "plt.plot(rregular_x,e8_toplot, 'y', label = \"8-regular\")\n",
    "\n",
    "plt.legend(loc='upper left')"
   ]
  },
  {
   "cell_type": "code",
   "execution_count": null,
   "metadata": {},
   "outputs": [],
   "source": []
  }
 ],
 "metadata": {
  "kernelspec": {
   "display_name": "Python 3",
   "language": "python",
   "name": "python3"
  },
  "language_info": {
   "codemirror_mode": {
    "name": "ipython",
    "version": 3
   },
   "file_extension": ".py",
   "mimetype": "text/x-python",
   "name": "python",
   "nbconvert_exporter": "python",
   "pygments_lexer": "ipython3",
   "version": "3.7.4"
  }
 },
 "nbformat": 4,
 "nbformat_minor": 2
}
