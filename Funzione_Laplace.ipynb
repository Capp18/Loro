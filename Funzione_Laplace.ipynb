{
 "cells": [
  {
   "cell_type": "code",
   "execution_count": 2,
   "metadata": {},
   "outputs": [],
   "source": [
    "import networkx as nkx\n",
    "import numpy as np"
   ]
  },
  {
   "cell_type": "code",
   "execution_count": 1,
   "metadata": {},
   "outputs": [],
   "source": [
    "def Laplacian_connected(G):\n",
    "    nodelist = [i for i in range(len(G))]        #lista dei nodi da verificare\n",
    "    Laplacian = nkx.laplacian_matrix(G,nodelist) #matrice laplaciana\n",
    "    lpc = Laplacian.todense()                    #formato umano\n",
    "    #print(lpc)\n",
    "    \n",
    "    #calcoliamo gli autovalori:\n",
    "    eig = list(np.linalg.eigvals(lpc))\n",
    "    eig_ord = sorted(eig)\n",
    "    if eig[1]>0:\n",
    "        print(\"E'CONNESSO\")\n",
    "    else:\n",
    "        print(\"Non connesso...\")\n",
    "        "
   ]
  },
  {
   "cell_type": "code",
   "execution_count": null,
   "metadata": {},
   "outputs": [],
   "source": []
  }
 ],
 "metadata": {
  "kernelspec": {
   "display_name": "Python 3",
   "language": "python",
   "name": "python3"
  },
  "language_info": {
   "codemirror_mode": {
    "name": "ipython",
    "version": 3
   },
   "file_extension": ".py",
   "mimetype": "text/x-python",
   "name": "python",
   "nbconvert_exporter": "python",
   "pygments_lexer": "ipython3",
   "version": "3.7.4"
  }
 },
 "nbformat": 4,
 "nbformat_minor": 2
}
